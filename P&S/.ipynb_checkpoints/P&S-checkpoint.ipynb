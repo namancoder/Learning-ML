{
 "cells": [
  {
   "cell_type": "markdown",
   "id": "28e9a805",
   "metadata": {},
   "source": [
    "Q-Q PLOT"
   ]
  },
  {
   "cell_type": "code",
   "execution_count": 2,
   "id": "7d118c4f",
   "metadata": {},
   "outputs": [
    {
     "name": "stdout",
     "output_type": "stream",
     "text": [
      "0 -2.7436943773204594\n",
      "1 -2.040671334336886\n",
      "2 -1.5421832915114637\n",
      "3 -1.5261240924474\n",
      "4 -1.3452072891057258\n",
      "5 -1.1773664680824116\n",
      "6 -1.16739908853712\n",
      "7 -1.0577298909474004\n",
      "8 -1.0395345031283216\n",
      "9 -1.0015338288523041\n",
      "10 -0.9760211706600375\n",
      "11 -0.9571238268961649\n",
      "12 -0.9387684025278573\n",
      "13 -0.9253909853245764\n",
      "14 -0.860917853366502\n",
      "15 -0.8127442186904958\n",
      "16 -0.8057526565984334\n",
      "17 -0.7923141438226224\n",
      "18 -0.7683380816941928\n",
      "19 -0.7018136370298559\n",
      "20 -0.6359521409230097\n",
      "21 -0.6074635481782792\n",
      "22 -0.5857421256781182\n",
      "23 -0.5636012063975275\n",
      "24 -0.5578262454544753\n",
      "25 -0.5526873702244274\n",
      "26 -0.5252380833065003\n",
      "27 -0.512525540971041\n",
      "28 -0.5061578129768075\n",
      "29 -0.49564829239760033\n",
      "30 -0.48379261315191413\n",
      "31 -0.4675476289642143\n",
      "32 -0.457208677566131\n",
      "33 -0.3977757182607236\n",
      "34 -0.35446451523174494\n",
      "35 -0.28276722539838833\n",
      "36 -0.2442121800947896\n",
      "37 -0.22679554321274137\n",
      "38 -0.2122798813774442\n",
      "39 -0.18301937046882708\n",
      "40 -0.1569113395607338\n",
      "41 -0.13460668041561746\n",
      "42 -0.1037700983629567\n",
      "43 -0.07164047932336913\n",
      "44 -0.03708193379202859\n",
      "45 -0.018335654107124084\n",
      "46 -0.012871122371378423\n",
      "47 0.026823478903323796\n",
      "48 0.05935030819089728\n",
      "49 0.06544491680709155\n",
      "50 0.09153791850386038\n",
      "51 0.12338349679471815\n",
      "52 0.13542572179407208\n",
      "53 0.14182311990026014\n",
      "54 0.16751692334130797\n",
      "55 0.19563745100596736\n",
      "56 0.23882862781198608\n",
      "57 0.2953844437372731\n",
      "58 0.3141006893605242\n",
      "59 0.32299799800498685\n",
      "60 0.331737419466288\n",
      "61 0.34817046446418226\n",
      "62 0.3755575874627771\n",
      "63 0.39240890645457205\n",
      "64 0.4105807886865557\n",
      "65 0.44447090152319796\n",
      "66 0.4851721180058691\n",
      "67 0.541504699486349\n",
      "68 0.5789026597375881\n",
      "69 0.6331342681899658\n",
      "70 0.6546221115857017\n",
      "71 0.6595452480255336\n",
      "72 0.6707639585616716\n",
      "73 0.6949624840671553\n",
      "74 0.7099717631020069\n",
      "75 0.7268050820410166\n",
      "76 0.7313555219276736\n",
      "77 0.7339762283072144\n",
      "78 0.7372959173991049\n",
      "79 0.7467217667241511\n",
      "80 0.7642534412660731\n",
      "81 0.8448843777130197\n",
      "82 0.9036129988466276\n",
      "83 0.9443939248957403\n",
      "84 1.030895749070829\n",
      "85 1.0646346330762366\n",
      "86 1.0684353183481532\n",
      "87 1.0724843589281876\n",
      "88 1.1010665574718002\n",
      "89 1.1276038494944147\n",
      "90 1.1546577216064928\n",
      "91 1.1610124752453286\n",
      "92 1.1952053315721778\n",
      "93 1.2654663099707721\n",
      "94 1.4686895288140727\n",
      "95 1.5006989091193808\n",
      "96 1.5676623843746242\n",
      "97 1.6221364688922084\n",
      "98 1.8773597388392647\n",
      "99 1.9989790746023992\n",
      "100 2.170645213845449\n"
     ]
    }
   ],
   "source": [
    "import numpy as np\n",
    "import pylab\n",
    "import scipy.stats as stats\n",
    "\n",
    "#N(0,1)\n",
    "# loc = mean\n",
    "# scale = standard deviation\n",
    "\n",
    "std_normal = np.random.normal(loc =0,scale =1,size=100)#generate random observation from gaussian dist.\n",
    "\n",
    "#0 to 100th percentile\n",
    "for i in range(0,101):\n",
    "    print(i,np.percentile(std_normal,i))"
   ]
  },
  {
   "cell_type": "code",
   "execution_count": 30,
   "id": "a32cc78b",
   "metadata": {},
   "outputs": [
    {
     "data": {
      "image/png": "[encoded data removed]",
      "text/plain": [
       "<Figure size 432x288 with 1 Axes>"
      ]
     },
     "metadata": {
      "needs_background": "light"
     },
     "output_type": "display_data"
    }
   ],
   "source": [
    "measurements = np.random.normal(loc=20,scale=5,size=100)\n",
    "\n",
    "stats.probplot(measurements, dist='norm', plot = pylab)\n",
    "\n",
    "#dist='norm' means standard normal viariate N(0,1)\n",
    "pylab.show()"
   ]
  },
  {
   "cell_type": "raw",
   "id": "9b374afc",
   "metadata": {},
   "source": [
    "Random Number generator(uniform distribution)"
   ]
  },
  {
   "cell_type": "code",
   "execution_count": 3,
   "id": "d053afa1",
   "metadata": {},
   "outputs": [
    {
     "name": "stdout",
     "output_type": "stream",
     "text": [
      "0.5606469000520674\n"
     ]
    }
   ],
   "source": [
    "import random\n",
    "print(random.random())"
   ]
  },
  {
   "cell_type": "code",
   "execution_count": 5,
   "id": "62fc7953",
   "metadata": {},
   "outputs": [
    {
     "data": {
      "text/plain": [
       "(150, 4)"
      ]
     },
     "execution_count": 5,
     "metadata": {},
     "output_type": "execute_result"
    }
   ],
   "source": [
    "from sklearn import datasets\n",
    "iris = datasets.load_iris()\n",
    "d = iris.data\n",
    "d.shape"
   ]
  },
  {
   "cell_type": "code",
   "execution_count": 22,
   "id": "2a311f51",
   "metadata": {},
   "outputs": [
    {
     "name": "stdout",
     "output_type": "stream",
     "text": [
      "31\n",
      "sdfvdsvvvsfvfvsfvsfvfvsfvsfv\n",
      "[array([5.4, 3.9, 1.7, 0.4]), array([4.4, 2.9, 1.4, 0.2]), array([4.8, 3. , 1.4, 0.1]), array([5.7, 4.4, 1.5, 0.4]), array([5.7, 3.8, 1.7, 0.3]), array([5.1, 3.8, 1.5, 0.3]), array([5.4, 3.4, 1.7, 0.2]), array([5.1, 3.7, 1.5, 0.4]), array([5. , 3. , 1.6, 0.2]), array([5.2, 3.5, 1.5, 0.2]), array([4.4, 3. , 1.3, 0.2]), array([5.1, 3.4, 1.5, 0.2]), array([4.6, 3.2, 1.4, 0.2]), array([6.4, 3.2, 4.5, 1.5]), array([6.5, 2.8, 4.6, 1.5]), array([6. , 2.2, 4. , 1. ]), array([6.7, 3.1, 4.4, 1.4]), array([6.2, 2.2, 4.5, 1.5]), array([6.1, 2.8, 4. , 1.3]), array([6.8, 2.8, 4.8, 1.4]), array([6. , 2.7, 5.1, 1.6]), array([6.7, 3.1, 4.7, 1.5]), array([5.5, 2.6, 4.4, 1.2]), array([5.8, 2.6, 4. , 1.2]), array([7.2, 3.6, 6.1, 2.5]), array([5.7, 2.5, 5. , 2. ]), array([6.4, 3.2, 5.3, 2.3]), array([7.2, 3.2, 6. , 1.8]), array([6.2, 2.8, 4.8, 1.8]), array([6.4, 2.8, 5.6, 2.2]), array([6.5, 3. , 5.2, 2. ])]\n"
     ]
    }
   ],
   "source": [
    "n=150\n",
    "m=30\n",
    "\n",
    "p =m/n\n",
    "\n",
    "sampled_data=[];\n",
    "\n",
    "for i in range(0,n):\n",
    "    if random.random()<=p:\n",
    "        sampled_data.append(d[i,:])\n",
    "print(len(sampled_data))\n",
    "print(\"sdfvdsvvvsfvfvsfvsfvfvsfvsfv\")\n",
    "print(sampled_data)\n"
   ]
  },
  {
   "cell_type": "raw",
   "id": "dbf46395",
   "metadata": {},
   "source": [
    "BOX COX PLOT"
   ]
  },
  {
   "cell_type": "code",
   "execution_count": 25,
   "id": "d7c50942",
   "metadata": {},
   "outputs": [],
   "source": [
    "from scipy import stats\n",
    "import matplotlib.pyplot as plt"
   ]
  },
  {
   "cell_type": "code",
   "execution_count": 28,
   "id": "9083c28b",
   "metadata": {},
   "outputs": [
    {
     "data": {
      "text/plain": [
       "Text(0.5, 1.0, 'probplot against normal distribution')"
      ]
     },
     "execution_count": 28,
     "metadata": {},
     "output_type": "execute_result"
    },
    {
     "data": {
      "image/png": "[encoded data removed]",
      "text/plain": [
       "<Figure size 432x288 with 1 Axes>"
      ]
     },
     "metadata": {
      "needs_background": "light"
     },
     "output_type": "display_data"
    }
   ],
   "source": [
    "fig = plt.figure()\n",
    "ax1 = fig.add_subplot(211)\n",
    "x = stats.loggamma.rvs(5,size=500) +5\n",
    "prob = stats.probplot(x,dist=stats.norm,plot=ax1)\n",
    "ax1.set_xlabel('')\n",
    "ax1.set_title('probplot against normal distribution')"
   ]
  }
 ],
 "metadata": {
  "kernelspec": {
   "display_name": "Python 3",
   "language": "python",
   "name": "python3"
  },
  "language_info": {
   "codemirror_mode": {
    "name": "ipython",
    "version": 3
   },
   "file_extension": ".py",
   "mimetype": "text/x-python",
   "name": "python",
   "nbconvert_exporter": "python",
   "pygments_lexer": "ipython3",
   "version": "3.8.5"
  }
 },
 "nbformat": 4,
 "nbformat_minor": 5
}
