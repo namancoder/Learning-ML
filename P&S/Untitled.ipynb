{
 "cells": [
  {
   "cell_type": "raw",
   "id": "53596905",
   "metadata": {},
   "source": [
    "EMPIRICAL BOOTSTRAP USING CONFIDENCE INTERVAL"
   ]
  },
  {
   "cell_type": "code",
   "execution_count": 3,
   "id": "5de7e092",
   "metadata": {},
   "outputs": [],
   "source": [
    "import numpy\n",
    "from pandas import read_csv\n",
    "from sklearn.utils import resample\n",
    "from sklearn.metrics import accuracy_score\n",
    "from matplotlib import pyplot\n"
   ]
  },
  {
   "cell_type": "code",
   "execution_count": 9,
   "id": "6cb980bd",
   "metadata": {},
   "outputs": [],
   "source": [
    "#load dataset\n",
    "x = numpy.array([180,162,172,168,150,171,183,165,176])#S"
   ]
  },
  {
   "cell_type": "code",
   "execution_count": 8,
   "id": "67be99f5",
   "metadata": {},
   "outputs": [],
   "source": [
    "#configue bootstrap\n",
    "n_iterations = 1000#K\n",
    "n_size = int(len(x))#m\n"
   ]
  },
  {
   "cell_type": "code",
   "execution_count": 23,
   "id": "4103a1ad",
   "metadata": {},
   "outputs": [
    {
     "data": {
      "image/png": "[encoded data removed]",
      "text/plain": [
       "<Figure size 432x288 with 1 Axes>"
      ]
     },
     "metadata": {
      "needs_background": "light"
     },
     "output_type": "display_data"
    },
    {
     "name": "stdout",
     "output_type": "stream",
     "text": [
      "95 confidence interval 162 and 176\n"
     ]
    }
   ],
   "source": [
    "#run bootstrap\n",
    "medians = list()\n",
    "for i in range(n_iterations):\n",
    "    #prepare train and test sets\n",
    "    s = resample(x,n_samples=n_size);#takes all values of x and ask how many values you want to sample with? = n_size\n",
    "    m = numpy.median(s);\n",
    "    #print(m)\n",
    "    medians.append(m)\n",
    "#plot scores\n",
    "pyplot.hist(medians)\n",
    "pyplot.show()\n",
    "\n",
    "#confidence intervals\n",
    "alpha = 0.95\n",
    "p=((1.0-alpha)/2.0)*100 # (1-c)/2\n",
    "lower=numpy.percentile(medians, p)\n",
    "p=(alpha+((1.0-alpha)/2.0))*100;\n",
    "upper = numpy.percentile(medians,p)\n",
    "print('%.lf confidence interval %.lf and %.lf' % (alpha*100,lower,upper))\n",
    "    \n"
   ]
  }
 ],
 "metadata": {
  "kernelspec": {
   "display_name": "Python 3",
   "language": "python",
   "name": "python3"
  },
  "language_info": {
   "codemirror_mode": {
    "name": "ipython",
    "version": 3
   },
   "file_extension": ".py",
   "mimetype": "text/x-python",
   "name": "python",
   "nbconvert_exporter": "python",
   "pygments_lexer": "ipython3",
   "version": "3.8.5"
  }
 },
 "nbformat": 4,
 "nbformat_minor": 5
}
