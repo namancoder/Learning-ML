{
 "cells": [
  {
   "cell_type": "raw",
   "id": "ffa40970",
   "metadata": {},
   "source": [
    "KAGGLE DIGIT RECOGNIZER DATA"
   ]
  },
  {
   "cell_type": "code",
   "execution_count": 8,
   "id": "bd463dda",
   "metadata": {},
   "outputs": [],
   "source": [
    "import pandas as pd\n",
    "import matplotlib.pyplot as plt\n",
    "import numpy as np"
   ]
  },
  {
   "cell_type": "code",
   "execution_count": 11,
   "id": "43675180",
   "metadata": {},
   "outputs": [],
   "source": [
    "d0 = pd.read_csv('./mnist_train.csv')"
   ]
  },
  {
   "cell_type": "code",
   "execution_count": 20,
   "id": "d0c9e790",
   "metadata": {},
   "outputs": [
    {
     "name": "stdout",
     "output_type": "stream",
     "text": [
      "    label  pixel0  pixel1  pixel2  pixel3  pixel4  pixel5  pixel6  pixel7  \\\n",
      "0       1       0       0       0       0       0       0       0       0   \n",
      "1       0       0       0       0       0       0       0       0       0   \n",
      "2       1       0       0       0       0       0       0       0       0   \n",
      "3       4       0       0       0       0       0       0       0       0   \n",
      "4       0       0       0       0       0       0       0       0       0   \n",
      "5       0       0       0       0       0       0       0       0       0   \n",
      "6       7       0       0       0       0       0       0       0       0   \n",
      "7       3       0       0       0       0       0       0       0       0   \n",
      "8       5       0       0       0       0       0       0       0       0   \n",
      "9       3       0       0       0       0       0       0       0       0   \n",
      "10      8       0       0       0       0       0       0       0       0   \n",
      "11      9       0       0       0       0       0       0       0       0   \n",
      "12      1       0       0       0       0       0       0       0       0   \n",
      "13      3       0       0       0       0       0       0       0       0   \n",
      "14      3       0       0       0       0       0       0       0       0   \n",
      "15      1       0       0       0       0       0       0       0       0   \n",
      "16      2       0       0       0       0       0       0       0       0   \n",
      "17      0       0       0       0       0       0       0       0       0   \n",
      "18      7       0       0       0       0       0       0       0       0   \n",
      "19      5       0       0       0       0       0       0       0       0   \n",
      "\n",
      "    pixel8  ...  pixel774  pixel775  pixel776  pixel777  pixel778  pixel779  \\\n",
      "0        0  ...         0         0         0         0         0         0   \n",
      "1        0  ...         0         0         0         0         0         0   \n",
      "2        0  ...         0         0         0         0         0         0   \n",
      "3        0  ...         0         0         0         0         0         0   \n",
      "4        0  ...         0         0         0         0         0         0   \n",
      "5        0  ...         0         0         0         0         0         0   \n",
      "6        0  ...         0         0         0         0         0         0   \n",
      "7        0  ...         0         0         0         0         0         0   \n",
      "8        0  ...         0         0         0         0         0         0   \n",
      "9        0  ...         0         0         0         0         0         0   \n",
      "10       0  ...         0         0         0         0         0         0   \n",
      "11       0  ...         0         0         0         0         0         0   \n",
      "12       0  ...         0         0         0         0         0         0   \n",
      "13       0  ...         0         0         0         0         0         0   \n",
      "14       0  ...         0         0         0         0         0         0   \n",
      "15       0  ...         0         0         0         0         0         0   \n",
      "16       0  ...         0         0         0         0         0         0   \n",
      "17       0  ...         0         0         0         0         0         0   \n",
      "18       0  ...         0         0         0         0         0         0   \n",
      "19       0  ...         0         0         0         0         0         0   \n",
      "\n",
      "    pixel780  pixel781  pixel782  pixel783  \n",
      "0          0         0         0         0  \n",
      "1          0         0         0         0  \n",
      "2          0         0         0         0  \n",
      "3          0         0         0         0  \n",
      "4          0         0         0         0  \n",
      "5          0         0         0         0  \n",
      "6          0         0         0         0  \n",
      "7          0         0         0         0  \n",
      "8          0         0         0         0  \n",
      "9          0         0         0         0  \n",
      "10         0         0         0         0  \n",
      "11         0         0         0         0  \n",
      "12         0         0         0         0  \n",
      "13         0         0         0         0  \n",
      "14         0         0         0         0  \n",
      "15         0         0         0         0  \n",
      "16         0         0         0         0  \n",
      "17         0         0         0         0  \n",
      "18         0         0         0         0  \n",
      "19         0         0         0         0  \n",
      "\n",
      "[20 rows x 785 columns]\n"
     ]
    }
   ],
   "source": [
    "print(d0.head(20))"
   ]
  },
  {
   "cell_type": "code",
   "execution_count": 22,
   "id": "053c5d11",
   "metadata": {},
   "outputs": [
    {
     "name": "stdout",
     "output_type": "stream",
     "text": [
      "(42000, 784)\n",
      "(42000,)\n"
     ]
    }
   ],
   "source": [
    "l = d0['label']\n",
    "d = d0.drop(\"label\",axis=1)\n",
    "print(d.shape)\n",
    "print(l.shape)"
   ]
  },
  {
   "cell_type": "code",
   "execution_count": 27,
   "id": "1947c933",
   "metadata": {},
   "outputs": [
    {
     "name": "stdout",
     "output_type": "stream",
     "text": [
      "9\n"
     ]
    },
    {
     "data": {
      "image/png": "[encoded data removed]",
      "text/plain": [
       "<Figure size 720x720 with 1 Axes>"
      ]
     },
     "metadata": {
      "needs_background": "light"
     },
     "output_type": "display_data"
    }
   ],
   "source": [
    "plt.figure(figsize=(10,10))\n",
    "idx = 100\n",
    "\n",
    "grid_data = d.iloc[idx].to_numpy().reshape(28,28)\n",
    "plt.imshow(grid_data,interpolation = 'none', cmap='gray')\n",
    "print(l[idx])"
   ]
  }
 ],
 "metadata": {
  "kernelspec": {
   "display_name": "Python 3",
   "language": "python",
   "name": "python3"
  },
  "language_info": {
   "codemirror_mode": {
    "name": "ipython",
    "version": 3
   },
   "file_extension": ".py",
   "mimetype": "text/x-python",
   "name": "python",
   "nbconvert_exporter": "python",
   "pygments_lexer": "ipython3",
   "version": "3.8.5"
  }
 },
 "nbformat": 4,
 "nbformat_minor": 5
}
